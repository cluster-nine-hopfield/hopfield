{
 "cells": [
  {
   "cell_type": "code",
   "execution_count": 2,
   "metadata": {},
   "outputs": [],
   "source": [
    "from hopfield import *"
   ]
  },
  {
   "cell_type": "code",
   "execution_count": 3,
   "metadata": {},
   "outputs": [],
   "source": [
    "network = Hopfield.from_image(\"H.png\")"
   ]
  },
  {
   "cell_type": "code",
   "execution_count": 4,
   "metadata": {},
   "outputs": [
    {
     "name": "stdout",
     "output_type": "stream",
     "text": [
      "zsh:1: command not found: pip\n"
     ]
    }
   ],
   "source": [
    "n = 500\n",
    "k = 100\n",
    "remembrance_threshold = 0.95\n",
    "\n",
    "!pip install tqdm"
   ]
  },
  {
   "cell_type": "code",
   "execution_count": 5,
   "metadata": {},
   "outputs": [
    {
     "name": "stdout",
     "output_type": "stream",
     "text": [
      "Requirement already satisfied: tqdm in /Library/Frameworks/Python.framework/Versions/3.10/lib/python3.10/site-packages (4.65.0)\n",
      "\u001b[33mWARNING: You are using pip version 21.2.3; however, version 23.2.1 is available.\n",
      "You should consider upgrading via the '/Library/Frameworks/Python.framework/Versions/3.10/bin/python3.10 -m pip install --upgrade pip' command.\u001b[0m\n"
     ]
    }
   ],
   "source": [
    "!pip3 install tqdm"
   ]
  },
  {
   "cell_type": "code",
   "execution_count": 6,
   "metadata": {},
   "outputs": [],
   "source": [
    "from tqdm import tqdm"
   ]
  },
  {
   "cell_type": "code",
   "execution_count": 7,
   "metadata": {},
   "outputs": [],
   "source": [
    "results = []\n",
    "\n"
   ]
  },
  {
   "cell_type": "code",
   "execution_count": 8,
   "metadata": {},
   "outputs": [],
   "source": [
    "import numpy as np"
   ]
  },
  {
   "cell_type": "code",
   "execution_count": 9,
   "metadata": {},
   "outputs": [],
   "source": [
    "def get_results(n,k):\n",
    "    results = []  \n",
    "    for num_nodes in tqdm(range(1,n+1)):\n",
    "        for num_images in tqdm(range(1,k+1)):\n",
    "            for num_to_perturb in tqdm(range(1,num_nodes)):\n",
    "                h = Hopfield(shape = (num_nodes,1))\n",
    "                print(h.values)\n",
    "                h.train_on_values()\n",
    "                print(h.values)\n",
    "                v  = h.values\n",
    "\n",
    "                \n",
    "                for train in range(num_images-1):\n",
    "                    new_img = np.random.choice([-1, 1], size=n)\n",
    "                    h.train_on_new(new_img)\n",
    "\n",
    "                h.perturb(num = num_to_perturb)\n",
    "\n",
    "                times = h.update_until_steady()\n",
    "\n",
    "                ham = Hopfield.hamming_distance(v,h.values)\n",
    "\n",
    "                dict = {\"nodes\":num_nodes,\"images\":num_images,\"perturbed\":num_to_perturb, \"times-took\":times, \"hamming\":ham}\n",
    "                results.append(dict)\n",
    "\n",
    "    return results\n",
    "\n",
    "\n",
    "        \n"
   ]
  },
  {
   "cell_type": "code",
   "execution_count": 12,
   "metadata": {},
   "outputs": [
    {
     "name": "stderr",
     "output_type": "stream",
     "text": [
      "  0%|          | 0/15 [00:00<?, ?it/s]\n",
      "0it [00:00, ?it/s]\n",
      "\n",
      "0it [00:00, ?it/s]\n",
      "\n",
      "0it [00:00, ?it/s]\n",
      "100%|██████████| 3/3 [00:00<00:00, 297.71it/s]\n",
      "\n",
      "  0%|          | 0/1 [00:00<?, ?it/s]\n",
      "  0%|          | 0/3 [00:00<?, ?it/s]\n",
      "  7%|▋         | 1/15 [00:00<00:00, 36.10it/s]"
     ]
    },
    {
     "name": "stdout",
     "output_type": "stream",
     "text": [
      "[-1 -1]\n",
      "[-1 -1]\n"
     ]
    },
    {
     "name": "stderr",
     "output_type": "stream",
     "text": [
      "\n"
     ]
    },
    {
     "ename": "TypeError",
     "evalue": "'numpy.int64' object is not iterable",
     "output_type": "error",
     "traceback": [
      "\u001b[0;31m---------------------------------------------------------------------------\u001b[0m",
      "\u001b[0;31mTypeError\u001b[0m                                 Traceback (most recent call last)",
      "Cell \u001b[0;32mIn[12], line 1\u001b[0m\n\u001b[0;32m----> 1\u001b[0m r \u001b[39m=\u001b[39m get_results(\u001b[39m15\u001b[39;49m,\u001b[39m3\u001b[39;49m)\n",
      "Cell \u001b[0;32mIn[9], line 19\u001b[0m, in \u001b[0;36mget_results\u001b[0;34m(n, k)\u001b[0m\n\u001b[1;32m     15\u001b[0m     h\u001b[39m.\u001b[39mtrain_on_new(new_img)\n\u001b[1;32m     17\u001b[0m h\u001b[39m.\u001b[39mperturb(num \u001b[39m=\u001b[39m num_to_perturb)\n\u001b[0;32m---> 19\u001b[0m times \u001b[39m=\u001b[39m h\u001b[39m.\u001b[39;49mupdate_until_steady()\n\u001b[1;32m     21\u001b[0m ham \u001b[39m=\u001b[39m Hopfield\u001b[39m.\u001b[39mhamming_distance(v,h\u001b[39m.\u001b[39mvalues)\n\u001b[1;32m     23\u001b[0m \u001b[39mdict\u001b[39m \u001b[39m=\u001b[39m {\u001b[39m\"\u001b[39m\u001b[39mnodes\u001b[39m\u001b[39m\"\u001b[39m:num_nodes,\u001b[39m\"\u001b[39m\u001b[39mimages\u001b[39m\u001b[39m\"\u001b[39m:num_images,\u001b[39m\"\u001b[39m\u001b[39mperturbed\u001b[39m\u001b[39m\"\u001b[39m:num_to_perturb, \u001b[39m\"\u001b[39m\u001b[39mtimes-took\u001b[39m\u001b[39m\"\u001b[39m:times, \u001b[39m\"\u001b[39m\u001b[39mhamming\u001b[39m\u001b[39m\"\u001b[39m:ham}\n",
      "File \u001b[0;32m~/hopfield/hopfield.py:172\u001b[0m, in \u001b[0;36mHopfield.update_until_steady\u001b[0;34m(self)\u001b[0m\n\u001b[1;32m    170\u001b[0m \u001b[39mdef\u001b[39;00m \u001b[39mupdate_until_steady\u001b[39m(\u001b[39mself\u001b[39m):\n\u001b[1;32m    171\u001b[0m     count\u001b[39m=\u001b[39m\u001b[39m0\u001b[39m\n\u001b[0;32m--> 172\u001b[0m     \u001b[39mwhile\u001b[39;00m \u001b[39mnot\u001b[39;00m \u001b[39mself\u001b[39;49m\u001b[39m.\u001b[39;49mis_steady():\n\u001b[1;32m    173\u001b[0m         \u001b[39mself\u001b[39m\u001b[39m.\u001b[39mdo_synchronous_update()\n\u001b[1;32m    174\u001b[0m         count \u001b[39m+\u001b[39m\u001b[39m=\u001b[39m \u001b[39m1\u001b[39m\n",
      "File \u001b[0;32m~/hopfield/hopfield.py:75\u001b[0m, in \u001b[0;36mHopfield.is_steady\u001b[0;34m(self)\u001b[0m\n\u001b[1;32m     73\u001b[0m \u001b[39mdef\u001b[39;00m \u001b[39mis_steady\u001b[39m(\u001b[39mself\u001b[39m):\n\u001b[1;32m     74\u001b[0m     new \u001b[39m=\u001b[39m Hopfield(\u001b[39mself\u001b[39m\u001b[39m.\u001b[39mweights, \u001b[39mself\u001b[39m\u001b[39m.\u001b[39mvalues, \u001b[39mself\u001b[39m\u001b[39m.\u001b[39mshape)\n\u001b[0;32m---> 75\u001b[0m     new\u001b[39m.\u001b[39;49mdo_synchronous_update()\n\u001b[1;32m     76\u001b[0m     \u001b[39mreturn\u001b[39;00m np\u001b[39m.\u001b[39marray_equal(\u001b[39mself\u001b[39m\u001b[39m.\u001b[39mvalues, new\u001b[39m.\u001b[39mvalues)\n",
      "File \u001b[0;32m~/hopfield/hopfield.py:42\u001b[0m, in \u001b[0;36mHopfield.do_synchronous_update\u001b[0;34m(self)\u001b[0m\n\u001b[1;32m     40\u001b[0m \u001b[39mdef\u001b[39;00m \u001b[39mdo_synchronous_update\u001b[39m(\u001b[39mself\u001b[39m):\n\u001b[1;32m     41\u001b[0m     node_inputs \u001b[39m=\u001b[39m \u001b[39mself\u001b[39m\u001b[39m.\u001b[39mweights \u001b[39m@\u001b[39m \u001b[39mself\u001b[39m\u001b[39m.\u001b[39mvalues\n\u001b[0;32m---> 42\u001b[0m     \u001b[39mself\u001b[39m\u001b[39m.\u001b[39mvalues \u001b[39m=\u001b[39m \u001b[39mself\u001b[39;49m\u001b[39m.\u001b[39;49mconvert_node_inputs_to_outputs(node_inputs)\n\u001b[1;32m     43\u001b[0m     \u001b[39mreturn\u001b[39;00m \u001b[39mself\u001b[39m\u001b[39m.\u001b[39mvalues\n",
      "File \u001b[0;32m~/hopfield/hopfield.py:69\u001b[0m, in \u001b[0;36mHopfield.convert_node_inputs_to_outputs\u001b[0;34m(self, node_inputs)\u001b[0m\n\u001b[1;32m     67\u001b[0m \u001b[39mdef\u001b[39;00m \u001b[39mconvert_node_inputs_to_outputs\u001b[39m(\u001b[39mself\u001b[39m, node_inputs):\n\u001b[1;32m     68\u001b[0m     outputs \u001b[39m=\u001b[39m []\n\u001b[0;32m---> 69\u001b[0m     \u001b[39mfor\u001b[39;00m node_input \u001b[39min\u001b[39;00m node_inputs:\n\u001b[1;32m     70\u001b[0m         outputs\u001b[39m.\u001b[39mappend({\u001b[39mTrue\u001b[39;00m: \u001b[39m1\u001b[39m, \u001b[39mFalse\u001b[39;00m: \u001b[39m-\u001b[39m\u001b[39m1\u001b[39m}[node_input \u001b[39m>\u001b[39m\u001b[39m=\u001b[39m \u001b[39m0\u001b[39m])  \u001b[39m# activation function\u001b[39;00m\n\u001b[1;32m     71\u001b[0m     \u001b[39mreturn\u001b[39;00m np\u001b[39m.\u001b[39marray(outputs)\n",
      "\u001b[0;31mTypeError\u001b[0m: 'numpy.int64' object is not iterable"
     ]
    }
   ],
   "source": [
    "r = get_results(15,3)"
   ]
  },
  {
   "cell_type": "code",
   "execution_count": null,
   "metadata": {},
   "outputs": [],
   "source": []
  }
 ],
 "metadata": {
  "kernelspec": {
   "display_name": "Python 3",
   "language": "python",
   "name": "python3"
  },
  "language_info": {
   "codemirror_mode": {
    "name": "ipython",
    "version": 3
   },
   "file_extension": ".py",
   "mimetype": "text/x-python",
   "name": "python",
   "nbconvert_exporter": "python",
   "pygments_lexer": "ipython3",
   "version": "3.10.0"
  },
  "orig_nbformat": 4
 },
 "nbformat": 4,
 "nbformat_minor": 2
}
