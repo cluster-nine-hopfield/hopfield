{
 "cells": [
  {
   "cell_type": "code",
   "execution_count": 1,
   "metadata": {},
   "outputs": [],
   "source": [
    "from hopfield import *"
   ]
  },
  {
   "cell_type": "code",
   "execution_count": 2,
   "metadata": {},
   "outputs": [],
   "source": [
    "Hop = Hopfield(shape = (200,1))"
   ]
  },
  {
   "cell_type": "code",
   "execution_count": 3,
   "metadata": {},
   "outputs": [],
   "source": [
    "Hop.train_on_values()"
   ]
  },
  {
   "cell_type": "code",
   "execution_count": 4,
   "metadata": {},
   "outputs": [
    {
     "ename": "ValueError",
     "evalue": "operands could not be broadcast together with shapes (200,200) (40000,200) ",
     "output_type": "error",
     "traceback": [
      "\u001b[0;31m---------------------------------------------------------------------------\u001b[0m",
      "\u001b[0;31mValueError\u001b[0m                                Traceback (most recent call last)",
      "Cell \u001b[0;32mIn[4], line 3\u001b[0m\n\u001b[1;32m      1\u001b[0m \u001b[39mfor\u001b[39;00m train \u001b[39min\u001b[39;00m \u001b[39mrange\u001b[39m(\u001b[39m60\u001b[39m):\n\u001b[1;32m      2\u001b[0m     new_img \u001b[39m=\u001b[39m np\u001b[39m.\u001b[39mrandom\u001b[39m.\u001b[39mchoice([\u001b[39m-\u001b[39m\u001b[39m1\u001b[39m, \u001b[39m1\u001b[39m], size \u001b[39m=\u001b[39m \u001b[39m200\u001b[39m)\n\u001b[0;32m----> 3\u001b[0m     Hop\u001b[39m.\u001b[39;49mstorkey_train(new_img)\n",
      "File \u001b[0;32m~/hopfield/hopfield.py:174\u001b[0m, in \u001b[0;36mHopfield.storkey_train\u001b[0;34m(self, array)\u001b[0m\n\u001b[1;32m    171\u001b[0m K \u001b[39m=\u001b[39m M\u001b[39m.\u001b[39msum(axis\u001b[39m=\u001b[39m\u001b[39m1\u001b[39m)\n\u001b[1;32m    172\u001b[0m K \u001b[39m=\u001b[39m K[:, np\u001b[39m.\u001b[39mnewaxis]\n\u001b[0;32m--> 174\u001b[0m term \u001b[39m=\u001b[39m np\u001b[39m.\u001b[39;49meinsum(\u001b[39m'\u001b[39;49m\u001b[39mi,j->ij\u001b[39;49m\u001b[39m'\u001b[39;49m, array, array) \u001b[39m-\u001b[39;49m np\u001b[39m.\u001b[39;49mmultiply(array, K) \u001b[39m-\u001b[39m np\u001b[39m.\u001b[39mmultiply(K, array\u001b[39m.\u001b[39mT)\n\u001b[1;32m    175\u001b[0m term \u001b[39m*\u001b[39m\u001b[39m=\u001b[39m \u001b[39m1.0\u001b[39m \u001b[39m/\u001b[39m \u001b[39mself\u001b[39m\u001b[39m.\u001b[39msize\n\u001b[1;32m    177\u001b[0m \u001b[39mself\u001b[39m\u001b[39m.\u001b[39mweights \u001b[39m+\u001b[39m\u001b[39m=\u001b[39m term\n",
      "\u001b[0;31mValueError\u001b[0m: operands could not be broadcast together with shapes (200,200) (40000,200) "
     ]
    }
   ],
   "source": [
    "for train in range(60):\n",
    "    new_img = np.random.choice([-1, 1], size = 200)\n",
    "    Hop.storkey_train(new_img)"
   ]
  },
  {
   "cell_type": "code",
   "execution_count": 5,
   "metadata": {},
   "outputs": [
    {
     "data": {
      "text/plain": [
       "array([[ 0.   , -0.005,  0.035, ...,  0.035, -0.045, -0.085],\n",
       "       [-0.005,  0.   ,  0.045, ..., -0.015, -0.015,  0.025],\n",
       "       [ 0.035,  0.045,  0.   , ...,  0.025, -0.035,  0.045],\n",
       "       ...,\n",
       "       [ 0.035, -0.015,  0.025, ...,  0.   , -0.015, -0.015],\n",
       "       [-0.045, -0.015, -0.035, ..., -0.015,  0.   , -0.035],\n",
       "       [-0.085,  0.025,  0.045, ..., -0.015, -0.035,  0.   ]])"
      ]
     },
     "execution_count": 5,
     "metadata": {},
     "output_type": "execute_result"
    }
   ],
   "source": [
    "Hop.weights"
   ]
  },
  {
   "cell_type": "code",
   "execution_count": 6,
   "metadata": {},
   "outputs": [],
   "source": [
    "Hop.perturb(num = 40)"
   ]
  },
  {
   "cell_type": "code",
   "execution_count": 7,
   "metadata": {},
   "outputs": [
    {
     "data": {
      "text/plain": [
       "-38.690000000000296"
      ]
     },
     "execution_count": 7,
     "metadata": {},
     "output_type": "execute_result"
    }
   ],
   "source": [
    "Hop.energy_function()"
   ]
  },
  {
   "cell_type": "code",
   "execution_count": 8,
   "metadata": {},
   "outputs": [
    {
     "data": {
      "text/plain": [
       "[[-98.43999999999804,\n",
       "  -111.35999999999598,\n",
       "  -114.88999999999594,\n",
       "  -115.48999999999613,\n",
       "  -114.67999999999546,\n",
       "  -115.56999999999607,\n",
       "  -115.95999999999556,\n",
       "  -115.91999999999615,\n",
       "  -116.71999999999552,\n",
       "  -118.15999999999606],\n",
       " 10]"
      ]
     },
     "execution_count": 8,
     "metadata": {},
     "output_type": "execute_result"
    }
   ],
   "source": [
    "Hop.sync_update_until_steady()"
   ]
  },
  {
   "cell_type": "code",
   "execution_count": 10,
   "metadata": {},
   "outputs": [],
   "source": [
    "Hop = Hopfield(shape = (4,1))"
   ]
  },
  {
   "cell_type": "code",
   "execution_count": 11,
   "metadata": {},
   "outputs": [
    {
     "data": {
      "text/plain": [
       "array([[0., 0., 0., 0.],\n",
       "       [0., 0., 0., 0.],\n",
       "       [0., 0., 0., 0.],\n",
       "       [0., 0., 0., 0.]])"
      ]
     },
     "execution_count": 11,
     "metadata": {},
     "output_type": "execute_result"
    }
   ],
   "source": [
    "Hop.weights"
   ]
  },
  {
   "cell_type": "code",
   "execution_count": 12,
   "metadata": {},
   "outputs": [],
   "source": [
    "Hop.storkey_train(np.array([1,1,-1,1]))"
   ]
  },
  {
   "cell_type": "code",
   "execution_count": 13,
   "metadata": {},
   "outputs": [
    {
     "data": {
      "text/plain": [
       "array([[ 0.25,  0.25, -0.25,  0.25],\n",
       "       [ 0.25,  0.25, -0.25,  0.25],\n",
       "       [-0.25, -0.25,  0.25, -0.25],\n",
       "       [ 0.25,  0.25, -0.25,  0.25]])"
      ]
     },
     "execution_count": 13,
     "metadata": {},
     "output_type": "execute_result"
    }
   ],
   "source": [
    "Hop.weights"
   ]
  },
  {
   "cell_type": "code",
   "execution_count": 14,
   "metadata": {},
   "outputs": [],
   "source": [
    "Hop.storkey_train(np.array([1,-1,1,-1]))"
   ]
  },
  {
   "cell_type": "code",
   "execution_count": 15,
   "metadata": {},
   "outputs": [
    {
     "data": {
      "text/plain": [
       "array([[ 0.875,  0.   ,  0.   ,  0.   ],\n",
       "       [ 0.   ,  0.375, -0.5  ,  0.5  ],\n",
       "       [ 0.   , -0.5  ,  0.375, -0.5  ],\n",
       "       [ 0.   ,  0.5  , -0.5  ,  0.375]])"
      ]
     },
     "execution_count": 15,
     "metadata": {},
     "output_type": "execute_result"
    }
   ],
   "source": [
    "Hop.weights"
   ]
  },
  {
   "cell_type": "code",
   "execution_count": null,
   "metadata": {},
   "outputs": [],
   "source": []
  }
 ],
 "metadata": {
  "kernelspec": {
   "display_name": "Python 3",
   "language": "python",
   "name": "python3"
  },
  "language_info": {
   "codemirror_mode": {
    "name": "ipython",
    "version": 3
   },
   "file_extension": ".py",
   "mimetype": "text/x-python",
   "name": "python",
   "nbconvert_exporter": "python",
   "pygments_lexer": "ipython3",
   "version": "3.10.0"
  },
  "orig_nbformat": 4
 },
 "nbformat": 4,
 "nbformat_minor": 2
}
