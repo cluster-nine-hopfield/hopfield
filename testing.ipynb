{
 "cells": [
  {
   "cell_type": "code",
   "execution_count": 1,
   "metadata": {},
   "outputs": [],
   "source": [
    "from hopfield import *"
   ]
  },
  {
   "cell_type": "code",
   "execution_count": 2,
   "metadata": {},
   "outputs": [],
   "source": [
    "Hop = Hopfield(shape = (200,1))"
   ]
  },
  {
   "cell_type": "code",
   "execution_count": 3,
   "metadata": {},
   "outputs": [],
   "source": [
    "Hop.train_on_values()"
   ]
  },
  {
   "cell_type": "code",
   "execution_count": 4,
   "metadata": {},
   "outputs": [],
   "source": [
    "for train in range(60):\n",
    "    new_img = np.random.choice([-1, 1], size = 200)\n",
    "    Hop.storkey_train(new_img)"
   ]
  },
  {
   "cell_type": "code",
   "execution_count": 5,
   "metadata": {},
   "outputs": [
    {
     "data": {
      "text/plain": [
       "array([[ 0.   , -0.005,  0.035, ...,  0.035, -0.045, -0.085],\n",
       "       [-0.005,  0.   ,  0.045, ..., -0.015, -0.015,  0.025],\n",
       "       [ 0.035,  0.045,  0.   , ...,  0.025, -0.035,  0.045],\n",
       "       ...,\n",
       "       [ 0.035, -0.015,  0.025, ...,  0.   , -0.015, -0.015],\n",
       "       [-0.045, -0.015, -0.035, ..., -0.015,  0.   , -0.035],\n",
       "       [-0.085,  0.025,  0.045, ..., -0.015, -0.035,  0.   ]])"
      ]
     },
     "execution_count": 5,
     "metadata": {},
     "output_type": "execute_result"
    }
   ],
   "source": [
    "Hop.weights"
   ]
  },
  {
   "cell_type": "code",
   "execution_count": 6,
   "metadata": {},
   "outputs": [],
   "source": [
    "Hop.perturb(num = 40)"
   ]
  },
  {
   "cell_type": "code",
   "execution_count": 7,
   "metadata": {},
   "outputs": [
    {
     "data": {
      "text/plain": [
       "-38.690000000000296"
      ]
     },
     "execution_count": 7,
     "metadata": {},
     "output_type": "execute_result"
    }
   ],
   "source": [
    "Hop.energy_function()"
   ]
  },
  {
   "cell_type": "code",
   "execution_count": 8,
   "metadata": {},
   "outputs": [
    {
     "data": {
      "text/plain": [
       "[[-98.43999999999804,\n",
       "  -111.35999999999598,\n",
       "  -114.88999999999594,\n",
       "  -115.48999999999613,\n",
       "  -114.67999999999546,\n",
       "  -115.56999999999607,\n",
       "  -115.95999999999556,\n",
       "  -115.91999999999615,\n",
       "  -116.71999999999552,\n",
       "  -118.15999999999606],\n",
       " 10]"
      ]
     },
     "execution_count": 8,
     "metadata": {},
     "output_type": "execute_result"
    }
   ],
   "source": [
    "Hop.sync_update_until_steady()"
   ]
  },
  {
   "cell_type": "code",
   "execution_count": 9,
   "metadata": {},
   "outputs": [],
   "source": [
    "Hop = Hopfield(shape = (4,1))"
   ]
  },
  {
   "cell_type": "code",
   "execution_count": 10,
   "metadata": {},
   "outputs": [
    {
     "data": {
      "text/plain": [
       "array([[0., 0., 0., 0.],\n",
       "       [0., 0., 0., 0.],\n",
       "       [0., 0., 0., 0.],\n",
       "       [0., 0., 0., 0.]])"
      ]
     },
     "execution_count": 10,
     "metadata": {},
     "output_type": "execute_result"
    }
   ],
   "source": [
    "Hop.weights"
   ]
  },
  {
   "cell_type": "code",
   "execution_count": 11,
   "metadata": {},
   "outputs": [],
   "source": [
    "Hop.storkey_train(np.array([1,1,-1,1]))"
   ]
  },
  {
   "cell_type": "code",
   "execution_count": 131,
   "metadata": {},
   "outputs": [
    {
     "data": {
      "text/plain": [
       "array([[ 0.25,  0.25, -0.25,  0.25],\n",
       "       [ 0.25,  0.25, -0.25,  0.25],\n",
       "       [-0.25, -0.25,  0.25, -0.25],\n",
       "       [ 0.25,  0.25, -0.25,  0.25]])"
      ]
     },
     "execution_count": 131,
     "metadata": {},
     "output_type": "execute_result"
    }
   ],
   "source": [
    "Hop.weights"
   ]
  },
  {
   "cell_type": "code",
   "execution_count": 132,
   "metadata": {},
   "outputs": [],
   "source": [
    "Hop.storkey_train(np.array([1,-1,1,-1]))"
   ]
  },
  {
   "cell_type": "code",
   "execution_count": 133,
   "metadata": {},
   "outputs": [
    {
     "data": {
      "text/plain": [
       "array([[ 0.875,  0.   ,  0.   ,  0.   ],\n",
       "       [ 0.   ,  0.375, -0.5  ,  0.5  ],\n",
       "       [ 0.   , -0.5  ,  0.375, -0.5  ],\n",
       "       [ 0.   ,  0.5  , -0.5  ,  0.375]])"
      ]
     },
     "execution_count": 133,
     "metadata": {},
     "output_type": "execute_result"
    }
   ],
   "source": [
    "Hop.weights"
   ]
  },
  {
   "cell_type": "code",
   "execution_count": null,
   "metadata": {},
   "outputs": [],
   "source": []
  }
 ],
 "metadata": {
  "kernelspec": {
   "display_name": "Python 3",
   "language": "python",
   "name": "python3"
  },
  "language_info": {
   "codemirror_mode": {
    "name": "ipython",
    "version": 3
   },
   "file_extension": ".py",
   "mimetype": "text/x-python",
   "name": "python",
   "nbconvert_exporter": "python",
   "pygments_lexer": "ipython3",
   "version": "3.10.0"
  },
  "orig_nbformat": 4
 },
 "nbformat": 4,
 "nbformat_minor": 2
}
