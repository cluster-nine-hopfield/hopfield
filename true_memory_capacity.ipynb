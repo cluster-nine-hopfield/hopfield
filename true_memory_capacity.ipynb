{
 "cells": [
  {
   "cell_type": "code",
   "execution_count": 1,
   "metadata": {},
   "outputs": [],
   "source": [
    "import pandas as pd\n",
    "from tqdm import tqdm\n",
    "from hopfield import *"
   ]
  },
  {
   "cell_type": "code",
   "execution_count": 2,
   "metadata": {},
   "outputs": [],
   "source": [
    "# n nodes\n",
    "# k images\n",
    "# see if the images are fixed pts (not necessarily stable)\n",
    "max_num_nodes_to_test = 100\n",
    "remembrance_threshold = 0.05"
   ]
  },
  {
   "cell_type": "code",
   "execution_count": 3,
   "metadata": {},
   "outputs": [],
   "source": [
    "def check_remembrance(network: Hopfield, image: np.array):\n",
    "    network.values = image\n",
    "    updated_values = network.do_synchronous_update()\n",
    "    hamming_distance = network.hamming_distance(updated_values, image)\n",
    "    try:\n",
    "        assert hamming_distance <= int(0.05 * network.n)\n",
    "        return True\n",
    "    except AssertionError:\n",
    "        # print(hamming_distance)\n",
    "        return False"
   ]
  },
  {
   "cell_type": "code",
   "execution_count": 4,
   "metadata": {},
   "outputs": [],
   "source": [
    "def check_multiple_remembrances(network: Hopfield, images: list[np.array]):\n",
    "    for image in images:\n",
    "        if not check_remembrance(network, image):\n",
    "            return False\n",
    "    return True"
   ]
  },
  {
   "cell_type": "code",
   "execution_count": 5,
   "metadata": {},
   "outputs": [
    {
     "name": "stderr",
     "output_type": "stream",
     "text": [
      "100%|██████████| 99/99 [00:08<00:00, 11.92it/s] \n"
     ]
    }
   ],
   "source": [
    "remembrance_data = {n: [] for n in range(2, max_num_nodes_to_test + 1)}\n",
    "\n",
    "for n in tqdm(range(2, max_num_nodes_to_test + 1)):\n",
    "    network = Hopfield(shape = (n, 1))\n",
    "    network.train_on_values()\n",
    "    images_trained_on = [np.array(network.values)]\n",
    "    remembrance_data[n].append(check_multiple_remembrances(network, images_trained_on))\n",
    "    while remembrance_data[n][-1] is True:\n",
    "        random_image = network.generate_random_image()\n",
    "        network.train_on_new(random_image)\n",
    "        images_trained_on.append(random_image)\n",
    "        remembrance_data[n].append(check_multiple_remembrances(network, images_trained_on))"
   ]
  },
  {
   "cell_type": "code",
   "execution_count": 6,
   "metadata": {},
   "outputs": [
    {
     "data": {
      "text/plain": [
       "28"
      ]
     },
     "execution_count": 6,
     "metadata": {},
     "output_type": "execute_result"
    }
   ],
   "source": [
    "max([len(remembrance_data[n]) - 1 for n in range(2, max_num_nodes_to_test + 1)])"
   ]
  },
  {
   "cell_type": "code",
   "execution_count": 27,
   "metadata": {},
   "outputs": [
    {
     "data": {
      "text/plain": [
       "<Axes: xlabel='num nodes', ylabel='num remembered'>"
      ]
     },
     "execution_count": 27,
     "metadata": {},
     "output_type": "execute_result"
    },
    {
     "data": {
      "image/png": "[encoded data removed]",
      "text/plain": [
       "<Figure size 640x480 with 1 Axes>"
      ]
     },
     "metadata": {},
     "output_type": "display_data"
    }
   ],
   "source": [
    "interpreted_data = {\"num remembered\": [len(remembrance_data[n]) - 1 for n in remembrance_data.keys()], \"num nodes\": [n for n in remembrance_data.keys()]}\n",
    "# print(interpreted_data)\n",
    "dataframe = pd.DataFrame(interpreted_data)\n",
    "# print(dataframe)\n",
    "dataframe.plot(x=\"num nodes\", y=\"num remembered\", kind=\"scatter\")"
   ]
  }
 ],
 "metadata": {
  "kernelspec": {
   "display_name": "Python 3",
   "language": "python",
   "name": "python3"
  },
  "language_info": {
   "codemirror_mode": {
    "name": "ipython",
    "version": 3
   },
   "file_extension": ".py",
   "mimetype": "text/x-python",
   "name": "python",
   "nbconvert_exporter": "python",
   "pygments_lexer": "ipython3",
   "version": "3.10.8"
  },
  "orig_nbformat": 4
 },
 "nbformat": 4,
 "nbformat_minor": 2
}
