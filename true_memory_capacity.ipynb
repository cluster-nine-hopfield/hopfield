{
 "cells": [
  {
   "cell_type": "code",
   "execution_count": 80,
   "metadata": {},
   "outputs": [],
   "source": [
    "from hopfield import *\n",
    "import pandas as pd"
   ]
  },
  {
   "cell_type": "code",
   "execution_count": 81,
   "metadata": {},
   "outputs": [],
   "source": [
    "# n nodes\n",
    "# k images\n",
    "# see if the images are fixed pts (not necessarily stable)\n",
    "max_num_nodes_to_test = 100\n",
    "max_num_images_to_test = 25 ** 2"
   ]
  },
  {
   "cell_type": "code",
   "execution_count": 82,
   "metadata": {},
   "outputs": [],
   "source": [
    "def check_remembrance(network: Hopfield, image: np.array):\n",
    "    network.values = image\n",
    "    updated_values = network.do_synchronous_update()\n",
    "    try:\n",
    "        assert (updated_values == image).all()\n",
    "        return True\n",
    "    except AssertionError:\n",
    "        return False"
   ]
  },
  {
   "cell_type": "code",
   "execution_count": 83,
   "metadata": {},
   "outputs": [],
   "source": [
    "def check_multiple_remembrances(network: Hopfield, images: list[np.array]):\n",
    "    for image in images:\n",
    "        if not check_remembrance(network, image):\n",
    "            return False\n",
    "    return True"
   ]
  },
  {
   "cell_type": "code",
   "execution_count": 85,
   "metadata": {},
   "outputs": [],
   "source": [
    "remembrance_data = {n: [] for n in range(2, max_num_nodes_to_test + 1)}\n",
    "\n",
    "for n in range(2, max_num_nodes_to_test + 1):\n",
    "    network = Hopfield(shape = (n, 1))\n",
    "    network.train_on_values()\n",
    "    images_trained_on = [np.array(network.values)]\n",
    "    remembrance_data[n].append(check_multiple_remembrances(network, images_trained_on))\n",
    "    while remembrance_data[n][-1] is True:\n",
    "        random_image = network.generate_random_image()\n",
    "        network.train_on_new(random_image)\n",
    "        images_trained_on.append(random_image)\n",
    "        remembrance_data[n].append(check_multiple_remembrances(network, images_trained_on))"
   ]
  },
  {
   "cell_type": "code",
   "execution_count": 86,
   "metadata": {},
   "outputs": [
    {
     "data": {
      "text/plain": [
       "{2: [False],\n",
       " 3: [True, False],\n",
       " 4: [True, False],\n",
       " 5: [True, True, False],\n",
       " 6: [True, True, True, False],\n",
       " 7: [True, False],\n",
       " 8: [True, True, False],\n",
       " 9: [True, True, False],\n",
       " 10: [True, True, False],\n",
       " 11: [True, True, False],\n",
       " 12: [True, False],\n",
       " 13: [True, True, True, False],\n",
       " 14: [True, True, False],\n",
       " 15: [True, True, False],\n",
       " 16: [True, False],\n",
       " 17: [True, True, False],\n",
       " 18: [True, True, False],\n",
       " 19: [True, False],\n",
       " 20: [True, True, False],\n",
       " 21: [True, True, True, False],\n",
       " 22: [True, True, True, False],\n",
       " 23: [True, True, False],\n",
       " 24: [True, True, False],\n",
       " 25: [True, True, True, False],\n",
       " 26: [True, True, True, False],\n",
       " 27: [True, True, True, False],\n",
       " 28: [True, True, False],\n",
       " 29: [True, True, True, False],\n",
       " 30: [True, True, False],\n",
       " 31: [True, True, True, False],\n",
       " 32: [True, True, True, True, False],\n",
       " 33: [True, True, True, False],\n",
       " 34: [True, True, True, False],\n",
       " 35: [True, True, True, False],\n",
       " 36: [True, True, True, False],\n",
       " 37: [True, True, False],\n",
       " 38: [True, True, False],\n",
       " 39: [True, True, False],\n",
       " 40: [True, True, True, False],\n",
       " 41: [True, True, True, False],\n",
       " 42: [True, True, True, False],\n",
       " 43: [True, True, False],\n",
       " 44: [True, True, True, False],\n",
       " 45: [True, True, True, True, False],\n",
       " 46: [True, True, True, True, True, False],\n",
       " 47: [True, True, True, True, False],\n",
       " 48: [True, True, True, False],\n",
       " 49: [True, True, True, True, False],\n",
       " 50: [True, True, True, True, False],\n",
       " 51: [True, True, True, False],\n",
       " 52: [True, True, True, False],\n",
       " 53: [True, True, True, True, False],\n",
       " 54: [True, True, True, False],\n",
       " 55: [True, True, True, False],\n",
       " 56: [True, True, True, False],\n",
       " 57: [True, True, True, True, False],\n",
       " 58: [True, True, True, True, False],\n",
       " 59: [True, True, True, True, False],\n",
       " 60: [True, True, True, False],\n",
       " 61: [True, True, True, True, True, True, False],\n",
       " 62: [True, True, True, True, False],\n",
       " 63: [True, True, True, False],\n",
       " 64: [True, True, True, True, False],\n",
       " 65: [True, True, True, False],\n",
       " 66: [True, True, True, True, False],\n",
       " 67: [True, True, True, True, False],\n",
       " 68: [True, True, True, True, True, False],\n",
       " 69: [True, True, True, True, True, False],\n",
       " 70: [True, True, True, True, False],\n",
       " 71: [True, True, True, True, False],\n",
       " 72: [True, True, True, True, True, True, False],\n",
       " 73: [True, True, True, False],\n",
       " 74: [True, True, True, True, True, False],\n",
       " 75: [True, True, True, False],\n",
       " 76: [True, True, True, True, False],\n",
       " 77: [True, True, True, False],\n",
       " 78: [True, True, True, True, False],\n",
       " 79: [True, True, True, False],\n",
       " 80: [True, True, True, False],\n",
       " 81: [True, True, True, False],\n",
       " 82: [True, True, True, True, False],\n",
       " 83: [True, True, True, True, True, True, False],\n",
       " 84: [True, True, True, False],\n",
       " 85: [True, True, True, False],\n",
       " 86: [True, True, True, True, True, False],\n",
       " 87: [True, True, True, False],\n",
       " 88: [True, True, True, True, False],\n",
       " 89: [True, True, True, False],\n",
       " 90: [True, True, True, False],\n",
       " 91: [True, True, True, True, False],\n",
       " 92: [True, True, True, False],\n",
       " 93: [True, True, True, False],\n",
       " 94: [True, True, True, True, False],\n",
       " 95: [True, True, True, True, False],\n",
       " 96: [True, True, True, True, True, False],\n",
       " 97: [True, True, True, True, True, False],\n",
       " 98: [True, True, True, True, True, False],\n",
       " 99: [True, True, True, True, True, False],\n",
       " 100: [True, True, True, True, False]}"
      ]
     },
     "execution_count": 86,
     "metadata": {},
     "output_type": "execute_result"
    }
   ],
   "source": [
    "remembrance_data"
   ]
  },
  {
   "cell_type": "code",
   "execution_count": null,
   "metadata": {},
   "outputs": [
    {
     "ename": "ValueError",
     "evalue": "All arrays must be of the same length",
     "output_type": "error",
     "traceback": [
      "\u001b[0;31m---------------------------------------------------------------------------\u001b[0m",
      "\u001b[0;31mValueError\u001b[0m                                Traceback (most recent call last)",
      "Cell \u001b[0;32mIn[79], line 1\u001b[0m\n\u001b[0;32m----> 1\u001b[0m dataframe \u001b[39m=\u001b[39m pd\u001b[39m.\u001b[39;49mDataFrame(remembrance_data)\n\u001b[1;32m      2\u001b[0m \u001b[39mprint\u001b[39m(dataframe\u001b[39m.\u001b[39mshape)\n\u001b[1;32m      3\u001b[0m dataframe\u001b[39m.\u001b[39mastype(\u001b[39mfloat\u001b[39m)\u001b[39m.\u001b[39mplot()\n",
      "File \u001b[0;32m~/.local/lib/python3.10/site-packages/pandas/core/frame.py:709\u001b[0m, in \u001b[0;36mDataFrame.__init__\u001b[0;34m(self, data, index, columns, dtype, copy)\u001b[0m\n\u001b[1;32m    703\u001b[0m     mgr \u001b[39m=\u001b[39m \u001b[39mself\u001b[39m\u001b[39m.\u001b[39m_init_mgr(\n\u001b[1;32m    704\u001b[0m         data, axes\u001b[39m=\u001b[39m{\u001b[39m\"\u001b[39m\u001b[39mindex\u001b[39m\u001b[39m\"\u001b[39m: index, \u001b[39m\"\u001b[39m\u001b[39mcolumns\u001b[39m\u001b[39m\"\u001b[39m: columns}, dtype\u001b[39m=\u001b[39mdtype, copy\u001b[39m=\u001b[39mcopy\n\u001b[1;32m    705\u001b[0m     )\n\u001b[1;32m    707\u001b[0m \u001b[39melif\u001b[39;00m \u001b[39misinstance\u001b[39m(data, \u001b[39mdict\u001b[39m):\n\u001b[1;32m    708\u001b[0m     \u001b[39m# GH#38939 de facto copy defaults to False only in non-dict cases\u001b[39;00m\n\u001b[0;32m--> 709\u001b[0m     mgr \u001b[39m=\u001b[39m dict_to_mgr(data, index, columns, dtype\u001b[39m=\u001b[39;49mdtype, copy\u001b[39m=\u001b[39;49mcopy, typ\u001b[39m=\u001b[39;49mmanager)\n\u001b[1;32m    710\u001b[0m \u001b[39melif\u001b[39;00m \u001b[39misinstance\u001b[39m(data, ma\u001b[39m.\u001b[39mMaskedArray):\n\u001b[1;32m    711\u001b[0m     \u001b[39mfrom\u001b[39;00m \u001b[39mnumpy\u001b[39;00m\u001b[39m.\u001b[39;00m\u001b[39mma\u001b[39;00m \u001b[39mimport\u001b[39;00m mrecords\n",
      "File \u001b[0;32m~/.local/lib/python3.10/site-packages/pandas/core/internals/construction.py:481\u001b[0m, in \u001b[0;36mdict_to_mgr\u001b[0;34m(data, index, columns, dtype, typ, copy)\u001b[0m\n\u001b[1;32m    477\u001b[0m     \u001b[39melse\u001b[39;00m:\n\u001b[1;32m    478\u001b[0m         \u001b[39m# dtype check to exclude e.g. range objects, scalars\u001b[39;00m\n\u001b[1;32m    479\u001b[0m         arrays \u001b[39m=\u001b[39m [x\u001b[39m.\u001b[39mcopy() \u001b[39mif\u001b[39;00m \u001b[39mhasattr\u001b[39m(x, \u001b[39m\"\u001b[39m\u001b[39mdtype\u001b[39m\u001b[39m\"\u001b[39m) \u001b[39melse\u001b[39;00m x \u001b[39mfor\u001b[39;00m x \u001b[39min\u001b[39;00m arrays]\n\u001b[0;32m--> 481\u001b[0m \u001b[39mreturn\u001b[39;00m arrays_to_mgr(arrays, columns, index, dtype\u001b[39m=\u001b[39;49mdtype, typ\u001b[39m=\u001b[39;49mtyp, consolidate\u001b[39m=\u001b[39;49mcopy)\n",
      "File \u001b[0;32m~/.local/lib/python3.10/site-packages/pandas/core/internals/construction.py:115\u001b[0m, in \u001b[0;36marrays_to_mgr\u001b[0;34m(arrays, columns, index, dtype, verify_integrity, typ, consolidate)\u001b[0m\n\u001b[1;32m    112\u001b[0m \u001b[39mif\u001b[39;00m verify_integrity:\n\u001b[1;32m    113\u001b[0m     \u001b[39m# figure out the index, if necessary\u001b[39;00m\n\u001b[1;32m    114\u001b[0m     \u001b[39mif\u001b[39;00m index \u001b[39mis\u001b[39;00m \u001b[39mNone\u001b[39;00m:\n\u001b[0;32m--> 115\u001b[0m         index \u001b[39m=\u001b[39m _extract_index(arrays)\n\u001b[1;32m    116\u001b[0m     \u001b[39melse\u001b[39;00m:\n\u001b[1;32m    117\u001b[0m         index \u001b[39m=\u001b[39m ensure_index(index)\n",
      "File \u001b[0;32m~/.local/lib/python3.10/site-packages/pandas/core/internals/construction.py:655\u001b[0m, in \u001b[0;36m_extract_index\u001b[0;34m(data)\u001b[0m\n\u001b[1;32m    653\u001b[0m lengths \u001b[39m=\u001b[39m \u001b[39mlist\u001b[39m(\u001b[39mset\u001b[39m(raw_lengths))\n\u001b[1;32m    654\u001b[0m \u001b[39mif\u001b[39;00m \u001b[39mlen\u001b[39m(lengths) \u001b[39m>\u001b[39m \u001b[39m1\u001b[39m:\n\u001b[0;32m--> 655\u001b[0m     \u001b[39mraise\u001b[39;00m \u001b[39mValueError\u001b[39;00m(\u001b[39m\"\u001b[39m\u001b[39mAll arrays must be of the same length\u001b[39m\u001b[39m\"\u001b[39m)\n\u001b[1;32m    657\u001b[0m \u001b[39mif\u001b[39;00m have_dicts:\n\u001b[1;32m    658\u001b[0m     \u001b[39mraise\u001b[39;00m \u001b[39mValueError\u001b[39;00m(\n\u001b[1;32m    659\u001b[0m         \u001b[39m\"\u001b[39m\u001b[39mMixing dicts with non-Series may lead to ambiguous ordering.\u001b[39m\u001b[39m\"\u001b[39m\n\u001b[1;32m    660\u001b[0m     )\n",
      "\u001b[0;31mValueError\u001b[0m: All arrays must be of the same length"
     ]
    }
   ],
   "source": [
    "dataframe = pd.DataFrame(remembrance_data)\n",
    "print(dataframe.shape)\n",
    "dataframe.astype(float).plot()"
   ]
  }
 ],
 "metadata": {
  "kernelspec": {
   "display_name": "Python 3",
   "language": "python",
   "name": "python3"
  },
  "language_info": {
   "codemirror_mode": {
    "name": "ipython",
    "version": 3
   },
   "file_extension": ".py",
   "mimetype": "text/x-python",
   "name": "python",
   "nbconvert_exporter": "python",
   "pygments_lexer": "ipython3",
   "version": "3.10.8"
  },
  "orig_nbformat": 4
 },
 "nbformat": 4,
 "nbformat_minor": 2
}
